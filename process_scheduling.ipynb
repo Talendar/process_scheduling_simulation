{
  "nbformat": 4,
  "nbformat_minor": 0,
  "metadata": {
    "colab": {
      "name": "process_scheduling.ipynb",
      "provenance": [],
      "collapsed_sections": [],
      "authorship_tag": "ABX9TyMbcKHxyiOAQrcSqv38tRI0",
      "include_colab_link": true
    },
    "kernelspec": {
      "name": "python3",
      "display_name": "Python 3"
    }
  },
  "cells": [
    {
      "cell_type": "markdown",
      "metadata": {
        "id": "view-in-github",
        "colab_type": "text"
      },
      "source": [
        "<a href=\"https://colab.research.google.com/github/Talendar/process_scheduling_simulation/blob/main/process_scheduling.ipynb\" target=\"_parent\"><img src=\"https://colab.research.google.com/assets/colab-badge.svg\" alt=\"Open In Colab\"/></a>"
      ]
    },
    {
      "cell_type": "markdown",
      "metadata": {
        "id": "TbGQBlGgwAFx"
      },
      "source": [
        "# Process Scheduling Algorithms"
      ]
    },
    {
      "cell_type": "code",
      "metadata": {
        "id": "87rY40mH58R-"
      },
      "source": [
        "from copy import deepcopy\n",
        "CTX_SW_COST = 1   # context switching cost (in time units)\n",
        "\n",
        "\n",
        "class Process: \n",
        "  def __init__(self, name, time, priority=1):\n",
        "    self.name = name\n",
        "    self.time = time\n",
        "    self.priority = priority\n",
        "    self.turnaround_time = -1\n",
        "\n",
        "  def __str__(self):\n",
        "    return \"< Name: %s  |  Time: %d  |  Priority: %d  |  Turnaround time: %d >\" % (\n",
        "        self.name, self.time, self.priority, self.turnaround_time)\n",
        "\n",
        "\n",
        "def print_results(results, alg_name):\n",
        "  print(\"< %s >\\nTotal time: %ds \\nTurnaround times:\" % (alg_name, results[0]))\n",
        "  for p in results[1]:\n",
        "    print(\"   [%s] %ds\" % (p.name, p.turnaround_time))"
      ],
      "execution_count": 45,
      "outputs": []
    },
    {
      "cell_type": "code",
      "metadata": {
        "id": "GqBpWQLtvDEL"
      },
      "source": [
        "# process list for exercise 16\n",
        "processes_ex16 = [\n",
        "      Process(\"A\", 10), \n",
        "      Process(\"B\", 6), \n",
        "      Process(\"C\", 2), \n",
        "      Process(\"D\", 4), \n",
        "      Process(\"E\", 8),\n",
        "]\n",
        "\n",
        "# process list for exercise 33\n",
        "processes_ex33 = [\n",
        "      Process(\"A\", 10, 5), \n",
        "      Process(\"B\", 11, 5), \n",
        "      Process(\"C\", 5, 1), \n",
        "      Process(\"D\", 15, 2), \n",
        "      Process(\"E\", 10, 2), \n",
        "      Process(\"F\", 12, 3), \n",
        "      Process(\"G\", 9, 4),\n",
        "]"
      ],
      "execution_count": 48,
      "outputs": []
    },
    {
      "cell_type": "markdown",
      "metadata": {
        "id": "xGP_KxVyvu4h"
      },
      "source": [
        "### Round-Robin algorithm"
      ]
    },
    {
      "cell_type": "code",
      "metadata": {
        "id": "krkQpDly8vOK"
      },
      "source": [
        "def round_robin(proc_list, quantum):\n",
        "  finished = []\n",
        "  dT = 0\n",
        "  while proc_list:\n",
        "    for p in proc_list:\n",
        "      dT += CTX_SW_COST\n",
        "      if p.time <= quantum:\n",
        "        dT += p.time\n",
        "        p.time = 0\n",
        "        p.turnaround_time = dT\n",
        "        proc_list.remove(p)\n",
        "        finished.append(p)\n",
        "      else:\n",
        "        p.time -= quantum\n",
        "        dT += quantum\n",
        "  return dT, finished"
      ],
      "execution_count": 4,
      "outputs": []
    },
    {
      "cell_type": "code",
      "metadata": {
        "id": "Zr_MsyHswN9Z",
        "outputId": "07ffd30f-24c3-45b7-baac-304622736cf0",
        "colab": {
          "base_uri": "https://localhost:8080/"
        }
      },
      "source": [
        "# exercise 16\n",
        "res_rr16 = round_robin(deepcopy(processes_ex16), quantum=3)\n",
        "print(\">>  Ex. 16  <<\\n\")\n",
        "print_results(res_rr16, \"Round-robin\")"
      ],
      "execution_count": 26,
      "outputs": [
        {
          "output_type": "stream",
          "text": [
            ">>  Ex. 16  <<\n",
            "\n",
            "< Round-robin >\n",
            "Total time: 42s \n",
            "Turnaround times:\n",
            "   [C] 11s\n",
            "   [B] 23s\n",
            "   [E] 38s\n",
            "   [A] 40s\n",
            "   [D] 42s\n"
          ],
          "name": "stdout"
        }
      ]
    },
    {
      "cell_type": "code",
      "metadata": {
        "id": "Mhq0jAe_yq4-",
        "outputId": "e32629b6-a842-4cda-f3eb-bf24a1084464",
        "colab": {
          "base_uri": "https://localhost:8080/"
        }
      },
      "source": [
        "# exercise 33\n",
        "res_rr33 = round_robin(deepcopy(processes_ex33), quantum=4)\n",
        "print(\">>  Ex. 33  <<\\n\")\n",
        "print_results(res_rr33, \"Round-robin\")"
      ],
      "execution_count": 25,
      "outputs": [
        {
          "output_type": "stream",
          "text": [
            ">>  Ex. 33  <<\n",
            "\n",
            "< Round-robin >\n",
            "Total time: 93s \n",
            "Turnaround times:\n",
            "   [C] 47s\n",
            "   [A] 65s\n",
            "   [E] 73s\n",
            "   [G] 75s\n",
            "   [B] 79s\n",
            "   [F] 84s\n",
            "   [D] 93s\n"
          ],
          "name": "stdout"
        }
      ]
    },
    {
      "cell_type": "markdown",
      "metadata": {
        "id": "A0PUdu_5vzMh"
      },
      "source": [
        "### Shortest Job First algorithm"
      ]
    },
    {
      "cell_type": "code",
      "metadata": {
        "id": "OupLnT7RAMWW"
      },
      "source": [
        "def sjf(proc_list):\n",
        "  finished = []\n",
        "  dT = 0\n",
        "  while proc_list:\n",
        "    dT += CTX_SW_COST\n",
        "    p = min(proc_list, key=(lambda x: x.time))\n",
        "    dT += p.time \n",
        "    p.time = 0\n",
        "    p.turnaround_time = dT\n",
        "    proc_list.remove(p)\n",
        "    finished.append(p)\n",
        "  return dT, finished"
      ],
      "execution_count": 14,
      "outputs": []
    },
    {
      "cell_type": "code",
      "metadata": {
        "id": "mmH06TnmyPlb",
        "outputId": "f7ceeff0-9078-40c2-d3cc-3cc3f7dddac7",
        "colab": {
          "base_uri": "https://localhost:8080/"
        }
      },
      "source": [
        "# exercise 16\n",
        "res_sjf16 = sjf(deepcopy(processes_ex16))\n",
        "print(\">>  Ex. 16  <<\\n\")\n",
        "print_results(res_sjf16, \"SJF\")"
      ],
      "execution_count": 24,
      "outputs": [
        {
          "output_type": "stream",
          "text": [
            ">>  Ex. 16  <<\n",
            "\n",
            "< SJF >\n",
            "Total time: 35s \n",
            "Turnaround times:\n",
            "   [C] 3s\n",
            "   [D] 8s\n",
            "   [B] 15s\n",
            "   [E] 24s\n",
            "   [A] 35s\n"
          ],
          "name": "stdout"
        }
      ]
    },
    {
      "cell_type": "markdown",
      "metadata": {
        "id": "E6Rm3LyWv3oR"
      },
      "source": [
        "### First-in First-out algorithm"
      ]
    },
    {
      "cell_type": "code",
      "metadata": {
        "id": "58oGBIIvC5f6"
      },
      "source": [
        "def fifo(proc_list):\n",
        "  finished = []\n",
        "  dT = 0\n",
        "  while proc_list:\n",
        "    dT += CTX_SW_COST\n",
        "    p = proc_list.pop(0)\n",
        "    dT += p.time\n",
        "    p.time = 0\n",
        "    p.turnaround_time = dT\n",
        "    finished.append(p)\n",
        "  return dT, finished"
      ],
      "execution_count": 16,
      "outputs": []
    },
    {
      "cell_type": "code",
      "metadata": {
        "id": "LcixfzHWydC7",
        "outputId": "09dedcd5-3938-49a6-b39d-f9fa49dbf09b",
        "colab": {
          "base_uri": "https://localhost:8080/"
        }
      },
      "source": [
        "# exercise 16\n",
        "res_fifo16 = fifo(deepcopy(processes_ex16))\n",
        "print(\">>  Ex. 16  <<\\n\")\n",
        "print_results(res_fifo16, \"FIFO\")"
      ],
      "execution_count": 23,
      "outputs": [
        {
          "output_type": "stream",
          "text": [
            ">>  Ex. 16  <<\n",
            "\n",
            "< FIFO >\n",
            "Total time: 35s \n",
            "Turnaround times:\n",
            "   [A] 11s\n",
            "   [B] 18s\n",
            "   [C] 21s\n",
            "   [D] 26s\n",
            "   [E] 35s\n"
          ],
          "name": "stdout"
        }
      ]
    },
    {
      "cell_type": "code",
      "metadata": {
        "id": "iySvZcr7zj9F",
        "outputId": "ef6162ee-1bb2-427e-a7a9-a4c829fc357e",
        "colab": {
          "base_uri": "https://localhost:8080/"
        }
      },
      "source": [
        "# exercise 33\n",
        "res_fifo33 = fifo(deepcopy(processes_ex33))\n",
        "print(\">>  Ex. 33  <<\\n\")\n",
        "print_results(res_fifo33, \"FIFO\")"
      ],
      "execution_count": 22,
      "outputs": [
        {
          "output_type": "stream",
          "text": [
            ">>  Ex. 33  <<\n",
            "\n",
            "< FIFO >\n",
            "Total time: 79s \n",
            "Turnaround times:\n",
            "   [A] 11s\n",
            "   [B] 23s\n",
            "   [C] 29s\n",
            "   [D] 45s\n",
            "   [E] 56s\n",
            "   [F] 69s\n",
            "   [G] 79s\n"
          ],
          "name": "stdout"
        }
      ]
    },
    {
      "cell_type": "markdown",
      "metadata": {
        "id": "LiZ41z8T0Gc1"
      },
      "source": [
        "### Priority Scheduling algorithm"
      ]
    },
    {
      "cell_type": "code",
      "metadata": {
        "id": "WXsKg8lAz6y8"
      },
      "source": [
        "def priority_scheduling(proc_list, priorities_quanta):\n",
        "  proc_priority_lists = {key: [] for key in priorities_quanta}\n",
        "  for p in proc_list:\n",
        "    proc_priority_lists[p.priority].append(p)\n",
        "\n",
        "  finished = []\n",
        "  dT = 0\n",
        "  for priority, p_list in sorted(proc_priority_lists.items(), reverse=True):\n",
        "      t, f = round_robin(p_list, quantum=priorities_quanta[priority])\n",
        "      for p in f:\n",
        "        p.turnaround_time += dT\n",
        "        finished.append(p)\n",
        "      dT += t\n",
        "  return dT, finished"
      ],
      "execution_count": 74,
      "outputs": []
    },
    {
      "cell_type": "code",
      "metadata": {
        "id": "h1AEQ7F20rV9",
        "outputId": "f34f5514-ab7c-4cec-ebc8-9a4d0441fabb",
        "colab": {
          "base_uri": "https://localhost:8080/"
        }
      },
      "source": [
        "# exercise 33\n",
        "res_priority33 = priority_scheduling(\n",
        "    proc_list=deepcopy(processes_ex33),\n",
        "    priorities_quanta={\n",
        "        1: 4, 2: 4, 3: 4,\n",
        "        4: 5, 5: 5,                                  \n",
        "    })\n",
        "print(\">>  Ex. 33  <<\\n\")\n",
        "print_results(res_priority33, \"Priority Scheduling\")"
      ],
      "execution_count": 75,
      "outputs": [
        {
          "output_type": "stream",
          "text": [
            ">>  Ex. 33  <<\n",
            "\n",
            "< Priority Scheduling >\n",
            "Total time: 91s \n",
            "Turnaround times:\n",
            "   [A] 18s\n",
            "   [B] 26s\n",
            "   [G] 37s\n",
            "   [F] 52s\n",
            "   [E] 80s\n",
            "   [D] 84s\n",
            "   [C] 91s\n"
          ],
          "name": "stdout"
        }
      ]
    }
  ]
}