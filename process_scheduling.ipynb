{
  "nbformat": 4,
  "nbformat_minor": 0,
  "metadata": {
    "colab": {
      "name": "process_scheduling.ipynb",
      "provenance": [],
      "collapsed_sections": [],
      "authorship_tag": "ABX9TyMiZBleQGtGpU4SW9mupIZ3",
      "include_colab_link": true
    },
    "kernelspec": {
      "name": "python3",
      "display_name": "Python 3"
    }
  },
  "cells": [
    {
      "cell_type": "markdown",
      "metadata": {
        "id": "view-in-github",
        "colab_type": "text"
      },
      "source": [
        "<a href=\"https://colab.research.google.com/github/Talendar/process_scheduling_simulation/blob/main/process_scheduling.ipynb\" target=\"_parent\"><img src=\"https://colab.research.google.com/assets/colab-badge.svg\" alt=\"Open In Colab\"/></a>"
      ]
    },
    {
      "cell_type": "code",
      "metadata": {
        "id": "87rY40mH58R-"
      },
      "source": [
        "from copy import deepcopy\n",
        "CTX_SW_COST = 1\n",
        "\n",
        "\n",
        "class Process: \n",
        "  def __init__(self, name, time):\n",
        "    self.name = name\n",
        "    self.time = time\n",
        "    self.turnaround_time = -1\n",
        "\n",
        "  def __lt__(self, other):\n",
        "    return self.time < other.time\n",
        "\n",
        "\n",
        "processes = [\n",
        "      Process(\"A\", 10), Process(\"B\", 6), Process(\"C\", 2), \n",
        "      Process(\"D\", 4), Process(\"E\", 8)\n",
        "]\n",
        "\n",
        "\n",
        "def print_results(results, alg_name):\n",
        "  print(\"< %s >\\nTotal time: %ds \\nTurnaround times:\" % (alg_name, results[0]))\n",
        "  for p in results[1]:\n",
        "    print(\"   [%s] %ds\" % (p.name, p.turnaround_time))"
      ],
      "execution_count": 26,
      "outputs": []
    },
    {
      "cell_type": "code",
      "metadata": {
        "id": "krkQpDly8vOK",
        "outputId": "48022f17-5032-4907-cfb0-54f41a2cd985",
        "colab": {
          "base_uri": "https://localhost:8080/"
        }
      },
      "source": [
        "def round_robin(proc_list, quantum):\n",
        "  finished = []\n",
        "  dT = 0\n",
        "  while proc_list:\n",
        "    for p in proc_list:\n",
        "      dT += CTX_SW_COST\n",
        "      if p.time <= quantum:\n",
        "        dT += p.time\n",
        "        p.time = 0\n",
        "        p.turnaround_time = dT\n",
        "        proc_list.remove(p)\n",
        "        finished.append(p)\n",
        "      else:\n",
        "        p.time -= quantum\n",
        "        dT += quantum\n",
        "  return dT, finished\n",
        "\n",
        "\n",
        "res_rr = round_robin(deepcopy(processes), 3)\n",
        "print_results(res_rr, \"Round-robin\")"
      ],
      "execution_count": 29,
      "outputs": [
        {
          "output_type": "stream",
          "text": [
            "< Round-robin >\n",
            "Total time: 42s \n",
            "Turnaround times:\n",
            "   [C] 11s\n",
            "   [B] 23s\n",
            "   [E] 38s\n",
            "   [A] 40s\n",
            "   [D] 42s\n"
          ],
          "name": "stdout"
        }
      ]
    },
    {
      "cell_type": "code",
      "metadata": {
        "id": "OupLnT7RAMWW",
        "outputId": "e867acd5-9682-41a1-df73-a702ec2e0aec",
        "colab": {
          "base_uri": "https://localhost:8080/"
        }
      },
      "source": [
        "def sjf(proc_list):\n",
        "  finished = []\n",
        "  dT = 0\n",
        "  while proc_list:\n",
        "    dT += CTX_SW_COST\n",
        "    p = min(proc_list)\n",
        "    dT += p.time \n",
        "    p.time = 0\n",
        "    p.turnaround_time = dT\n",
        "    proc_list.remove(p)\n",
        "    finished.append(p)\n",
        "  return dT, finished\n",
        "\n",
        "\n",
        "res_sjf = sjf(deepcopy(processes))\n",
        "print_results(res_sjf, \"SJF\")"
      ],
      "execution_count": 30,
      "outputs": [
        {
          "output_type": "stream",
          "text": [
            "< SJF >\n",
            "Total time: 35s \n",
            "Turnaround times:\n",
            "   [C] 3s\n",
            "   [D] 8s\n",
            "   [B] 15s\n",
            "   [E] 24s\n",
            "   [A] 35s\n"
          ],
          "name": "stdout"
        }
      ]
    },
    {
      "cell_type": "code",
      "metadata": {
        "id": "58oGBIIvC5f6",
        "outputId": "96bb68f6-1248-4d7e-b4a8-b35033c43e6e",
        "colab": {
          "base_uri": "https://localhost:8080/"
        }
      },
      "source": [
        "def fifo(proc_list):\n",
        "  finished = []\n",
        "  dT = 0\n",
        "  while proc_list:\n",
        "    dT += CTX_SW_COST\n",
        "    p = proc_list.pop(0)\n",
        "    dT += p.time\n",
        "    p.time = 0\n",
        "    p.turnaround_time = dT\n",
        "    finished.append(p)\n",
        "  return dT, finished\n",
        "\n",
        "\n",
        "res_fifo = fifo(deepcopy(processes))\n",
        "print_results(res_fifo, \"FIFO\")"
      ],
      "execution_count": 31,
      "outputs": [
        {
          "output_type": "stream",
          "text": [
            "< FIFO >\n",
            "Total time: 35s \n",
            "Turnaround times:\n",
            "   [A] 11s\n",
            "   [B] 18s\n",
            "   [C] 21s\n",
            "   [D] 26s\n",
            "   [E] 35s\n"
          ],
          "name": "stdout"
        }
      ]
    }
  ]
}